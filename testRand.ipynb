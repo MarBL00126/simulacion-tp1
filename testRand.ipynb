{
 "cells": [
  {
   "cell_type": "markdown",
   "metadata": {},
   "source": [
    "## Definicion de Generador LXM"
   ]
  },
  {
   "cell_type": "markdown",
   "metadata": {},
   "source": [
    "NOTA: pongamos una opcion de agregarle una SEED cuando se crea"
   ]
  },
  {
   "cell_type": "code",
   "execution_count": 15,
   "metadata": {},
   "outputs": [],
   "source": [
    "from numpy import uint64\n",
    "import numpy as np\n",
    "from math import exp, factorial\n",
    "N_BITS = uint64(64)\n",
    "def rotateLeft(n, d):\n",
    "    n = uint64(n)\n",
    "    d = uint64(d)\n",
    "    return (n << d)|(n >> (N_BITS - d))\n",
    "\n",
    "def shiftLeft(n, d):\n",
    "    n = uint64(n)\n",
    "    d = uint64(d)\n",
    "    return n << d\n",
    "\n",
    "def shiftRight(n, d):\n",
    "    n = uint64(n)\n",
    "    d = uint64(d)\n",
    "    return n >> d\n",
    "\n",
    "class LXM:\n",
    "\n",
    "    M = uint64(0xd1342543de82ef95)\n",
    "    a = uint64(13)\n",
    "    s = uint64(0)\n",
    "    x0 = uint64(11)\n",
    "    x1 = uint64(57)\n",
    "    c = uint64(0xdaba0b6eb09322e3)\n",
    "    \n",
    "    def nextRand(self, n=1):\n",
    "        if n < 1:\n",
    "            raise Exception(\"'n' must be 1 or greater\")\n",
    "\n",
    "        numbers = []\n",
    "        for i in range(n):\n",
    "            # Combining operation\n",
    "            z = self.s + self.x0\n",
    "            # Mixing function (lea64)\n",
    "            z = (z ^ (shiftRight(z, 32))) * self.c\n",
    "            z = (z ^ (shiftRight(z, 32))) * self.c\n",
    "            z = (z ^ (shiftRight(z, 32)))\n",
    "            # Update the LCG subgenerator\n",
    "            self.s = self.M * self.s + self.a\n",
    "            # Update the XBG subgenerator (xoroshiro128v1_0)\n",
    "            q0, q1 = self.x0, self.x1\n",
    "            q1 ^= q0\n",
    "            q0 = rotateLeft(q0, 24)\n",
    "            q1 = q0 ^ q1 ^ (shiftLeft(q1, 24))\n",
    "            q1 = rotateLeft(q1, 37)\n",
    "            self.x0, self.x1 = q0, q1\n",
    "            #result\n",
    "            numbers.append(z / uint64(-1))\n",
    "            \n",
    "        return numbers[0] if n==1 else np.array(numbers)\n",
    "\n",
    "    def generate_normal(self, mean, deviation, n=1):\n",
    "        if n < 1:\n",
    "            raise Exception(\"'n' must be 1 or greater\")\n",
    "        U1 = self.nextRand(n)\n",
    "        U2 = self.nextRand(n)\n",
    "        R = np.sqrt(-2* np.log(U1))\n",
    "        Theta = 2 * np.pi * U2\n",
    "        #normal_1 = R * np.cos(Theta)\n",
    "        normal = R * np.sin(Theta)\n",
    "        return deviation*normal + mean\n",
    "    \n",
    "    def generate_exponential(self, param, n=1):\n",
    "        if n < 1:\n",
    "            raise Exception(\"'n' must be 1 or greater\")\n",
    "        if param < 0:\n",
    "            raise Exception(\"the exponential parameter must be greater than 0\")\n",
    "        U = self.nextRand(n)\n",
    "        return -np.log(1-U)/param\n",
    "        "
   ]
  },
  {
   "cell_type": "markdown",
   "metadata": {},
   "source": [
    "### Liberias necesarias"
   ]
  },
  {
   "cell_type": "code",
   "execution_count": 8,
   "metadata": {},
   "outputs": [],
   "source": [
    "import seaborn as sns\n",
    "import numpy as np\n",
    "import warnings\n",
    "warnings.filterwarnings(\"ignore\")\n",
    "gen = LXM()"
   ]
  },
  {
   "cell_type": "markdown",
   "metadata": {},
   "source": [
    "### Generar numeros con distribucion uniforme en el intervalo 0 - 1"
   ]
  },
  {
   "cell_type": "code",
   "execution_count": 3,
   "metadata": {},
   "outputs": [
    {
     "data": {
      "text/plain": [
       "<AxesSubplot:ylabel='Count'>"
      ]
     },
     "execution_count": 3,
     "metadata": {},
     "output_type": "execute_result"
    },
    {
     "data": {
      "image/png": "[encoded data removed]",
      "text/plain": [
       "<Figure size 432x288 with 1 Axes>"
      ]
     },
     "metadata": {
      "needs_background": "light"
     },
     "output_type": "display_data"
    }
   ],
   "source": [
    "arr = gen.nextRand(100_000)\n",
    "\n",
    "sns.histplot(bins=50, x=arr)"
   ]
  },
  {
   "cell_type": "markdown",
   "metadata": {},
   "source": [
    "### Generacion de uniforme en el intervalo a - b"
   ]
  },
  {
   "cell_type": "code",
   "execution_count": 4,
   "metadata": {},
   "outputs": [
    {
     "data": {
      "text/plain": [
       "<AxesSubplot:ylabel='Count'>"
      ]
     },
     "execution_count": 4,
     "metadata": {},
     "output_type": "execute_result"
    },
    {
     "data": {
      "image/png": "[encoded data removed]",
      "text/plain": [
       "<Figure size 432x288 with 1 Axes>"
      ]
     },
     "metadata": {
      "needs_background": "light"
     },
     "output_type": "display_data"
    }
   ],
   "source": [
    "a = 2\n",
    "b = 5\n",
    "nums = gen.nextRand(100_000)\n",
    "nums = nums * (b-a) + a\n",
    "\n",
    "sns.histplot(bins=50, x=nums)\n"
   ]
  },
  {
   "cell_type": "markdown",
   "metadata": {},
   "source": [
    "### Generacion de Normal Estandar con 2 uniformes - Metodo de Box Muller"
   ]
  },
  {
   "cell_type": "code",
   "execution_count": 5,
   "metadata": {},
   "outputs": [
    {
     "data": {
      "text/plain": [
       "<AxesSubplot:ylabel='Count'>"
      ]
     },
     "execution_count": 5,
     "metadata": {},
     "output_type": "execute_result"
    },
    {
     "data": {
      "image/png": "[encoded data removed]",
      "text/plain": [
       "<Figure size 432x288 with 1 Axes>"
      ]
     },
     "metadata": {
      "needs_background": "light"
     },
     "output_type": "display_data"
    }
   ],
   "source": [
    "sns.histplot(bins=100, x=gen.generate_normal(0, 1, 100_000))"
   ]
  },
  {
   "cell_type": "markdown",
   "metadata": {},
   "source": [
    "### Generar la variable aleatoria Normal con esperanza E y desvio D"
   ]
  },
  {
   "cell_type": "code",
   "execution_count": 6,
   "metadata": {},
   "outputs": [
    {
     "data": {
      "text/plain": [
       "<AxesSubplot:ylabel='Count'>"
      ]
     },
     "execution_count": 6,
     "metadata": {},
     "output_type": "execute_result"
    },
    {
     "data": {
      "image/png": "[encoded data removed]",
      "text/plain": [
       "<Figure size 432x288 with 1 Axes>"
      ]
     },
     "metadata": {
      "needs_background": "light"
     },
     "output_type": "display_data"
    }
   ],
   "source": [
    "\n",
    "normal2 = gen.generate_normal(10, 2, 100_000)\n",
    "sns.histplot(bins=100, x=normal2)"
   ]
  },
  {
   "cell_type": "code",
   "execution_count": 7,
   "metadata": {},
   "outputs": [
    {
     "name": "stdout",
     "output_type": "stream",
     "text": [
      "Normal\n",
      "Esperanza = 10.0\n",
      "Desvio = 2.0\n"
     ]
    }
   ],
   "source": [
    "# Verificamos\n",
    "esp = round(normal2.mean(), 2)\n",
    "desv = round(normal2.std(), 2)\n",
    "print(f'Normal\\nEsperanza = {esp}\\nDesvio = {desv}')"
   ]
  },
  {
   "cell_type": "markdown",
   "metadata": {},
   "source": [
    "## Test de Kolmogorov Smirnov\n",
    "* H0: La muestra sigue una distribucion uniforme\n",
    "* H1: La muestra no sigue una distribucio uniforme\n",
    "\n",
    "Vemos si podemos rechazar (o no) H0."
   ]
  },
  {
   "cell_type": "code",
   "execution_count": 8,
   "metadata": {},
   "outputs": [
    {
     "name": "stdout",
     "output_type": "stream",
     "text": [
      "Datos uniformes (No se puede rechazar H0)\n",
      "Datos uniformes (No se puede rechazar H0)\n",
      "Datos uniformes (No se puede rechazar H0)\n"
     ]
    }
   ],
   "source": [
    "from scipy import stats\n",
    "for n in [10, 10_000, 100_000]:\n",
    "    data = gen.nextRand(n)\n",
    "    kstest_test = stats.kstest(data, 'uniform')\n",
    "    if kstest_test.pvalue > 0.05:\n",
    "        print('Datos uniformes (No se puede rechazar H0)')\n",
    "    else:\n",
    "        print('Datos no uniformes (Se rechaza H0)')"
   ]
  },
  {
   "cell_type": "markdown",
   "metadata": {},
   "source": [
    "## Test de normalidad \n",
    "\n",
    "* H0: La muestra sigue una distribucion normal\n",
    "* H1: La muestra no sigue una distribucio normal\n",
    "\n",
    "Vemos si podemos rechazar (o no) H0."
   ]
  },
  {
   "cell_type": "code",
   "execution_count": 9,
   "metadata": {},
   "outputs": [
    {
     "name": "stdout",
     "output_type": "stream",
     "text": [
      "\n",
      "Test n = 10\n",
      "Estadístico: 0.585\n",
      "0.150: 0.501, Datos No normales (Se rechaza H0)\n",
      "0.100: 0.570, Datos No normales (Se rechaza H0)\n",
      "0.050: 0.684, Datos normales (No se puede rechazar H0)\n",
      "0.025: 0.798, Datos normales (No se puede rechazar H0)\n",
      "0.010: 0.950, Datos normales (No se puede rechazar H0)\n",
      "\n",
      "Test n = 10000\n",
      "Estadístico: 0.274\n",
      "0.150: 0.576, Datos normales (No se puede rechazar H0)\n",
      "0.100: 0.656, Datos normales (No se puede rechazar H0)\n",
      "0.050: 0.787, Datos normales (No se puede rechazar H0)\n",
      "0.025: 0.918, Datos normales (No se puede rechazar H0)\n",
      "0.010: 1.092, Datos normales (No se puede rechazar H0)\n"
     ]
    }
   ],
   "source": [
    "# Anderson-Darling Test\n",
    "from scipy.stats import anderson\n",
    "\n",
    "for n in [10, 10_000]:\n",
    "    print(f\"\\nTest n = {n}\")\n",
    "    data = gen.generate_normal(2, 10, n)\n",
    "    #Ejecutamos el test de normalidad (por defecto compara contra Normal)\n",
    "    resultado = anderson(data)\n",
    "    print('Estadístico: %.3f' % resultado.statistic)\n",
    "    for i in range(len(resultado.critical_values)):\n",
    "        nivel_significancia, umbral = resultado.significance_level[i]/100, resultado.critical_values[i]\n",
    "        if resultado.statistic < resultado.critical_values[i]:\n",
    "            print('%.3f: %.3f, Datos normales (No se puede rechazar H0)' % (nivel_significancia, umbral))\n",
    "        else:\n",
    "            print('%.3f: %.3f, Datos No normales (Se rechaza H0)' % (nivel_significancia, umbral))"
   ]
  },
  {
   "cell_type": "markdown",
   "metadata": {},
   "source": [
    "### Test de Saphiro para distribucion normal"
   ]
  },
  {
   "cell_type": "code",
   "execution_count": 10,
   "metadata": {},
   "outputs": [
    {
     "name": "stdout",
     "output_type": "stream",
     "text": [
      "Datos normales (No se puede rechazar H0)\n",
      "Datos normales (No se puede rechazar H0)\n",
      "Datos normales (No se puede rechazar H0)\n"
     ]
    }
   ],
   "source": [
    "from scipy import stats\n",
    "for n in [10, 10_000, 100_000]:\n",
    "    data = gen.generate_normal(2, 10, n)\n",
    "    shapiro_test = stats.shapiro(data)\n",
    "    if shapiro_test.pvalue > 0.05:\n",
    "        print('Datos normales (No se puede rechazar H0)')\n",
    "    else:\n",
    "        print('Datos no normales (Se rechaza H0)')"
   ]
  },
  {
   "cell_type": "markdown",
   "metadata": {},
   "source": [
    "### Ej 4: iniciamos cargando el archivo de arribos y graficando la distribucion"
   ]
  },
  {
   "cell_type": "code",
   "execution_count": 9,
   "metadata": {},
   "outputs": [
    {
     "data": {
      "text/plain": [
       "(10000,)"
      ]
     },
     "execution_count": 9,
     "metadata": {},
     "output_type": "execute_result"
    }
   ],
   "source": [
    "tiempos_entre_arribos = np.loadtxt('tiempos_entre_arribos.txt')\n",
    "tiempos_entre_arribos.shape"
   ]
  },
  {
   "cell_type": "markdown",
   "metadata": {},
   "source": [
    "Los tiempos entre arribos deberian estar distribuidos como una exponencial"
   ]
  },
  {
   "cell_type": "code",
   "execution_count": 10,
   "metadata": {},
   "outputs": [
    {
     "data": {
      "text/plain": [
       "<AxesSubplot:ylabel='Count'>"
      ]
     },
     "execution_count": 10,
     "metadata": {},
     "output_type": "execute_result"
    },
    {
     "data": {
      "image/png": "[encoded data removed]",
      "text/plain": [
       "<Figure size 640x480 with 1 Axes>"
      ]
     },
     "metadata": {},
     "output_type": "display_data"
    }
   ],
   "source": [
    "sns.histplot(tiempos_entre_arribos)"
   ]
  },
  {
   "cell_type": "markdown",
   "metadata": {},
   "source": [
    "Si hacemos la suma acumulativa, obtenemos todos los eventos de un proceso de Poisson"
   ]
  },
  {
   "cell_type": "code",
   "execution_count": 11,
   "metadata": {},
   "outputs": [
    {
     "data": {
      "text/plain": [
       "<AxesSubplot:>"
      ]
     },
     "execution_count": 11,
     "metadata": {},
     "output_type": "execute_result"
    },
    {
     "data": {
      "image/png": "[encoded data removed]",
      "text/plain": [
       "<Figure size 640x480 with 1 Axes>"
      ]
     },
     "metadata": {},
     "output_type": "display_data"
    }
   ],
   "source": [
    "eventos_proceso = tiempos_entre_arribos.cumsum()\n",
    "sns.scatterplot(eventos_proceso)"
   ]
  },
  {
   "cell_type": "markdown",
   "metadata": {},
   "source": [
    "Estimamos la tasa de arribos lambda como el parametro de las exponenciales (tiempo entre arribos). Calculamos la media de las exponenciales y lambda será 1/media"
   ]
  },
  {
   "cell_type": "code",
   "execution_count": 12,
   "metadata": {},
   "outputs": [
    {
     "name": "stdout",
     "output_type": "stream",
     "text": [
      "El parametro lambda es 9.89 arribos de vehiculos por hora\n"
     ]
    }
   ],
   "source": [
    "lam = round(1/tiempos_entre_arribos.mean(), 2)\n",
    "print(f'El parametro lambda es {lam} arribos de vehiculos por hora')"
   ]
  },
  {
   "cell_type": "markdown",
   "metadata": {},
   "source": [
    "### Realizamos un test sobre los tiempos entre arribos para confirmar que provienen de una distribucion exponencial y por lo tanto tratamos con un proceso de Poisson\n",
    "\n",
    "Realizamos un Test de Kolmogorov Smirnov\n",
    "* H0: La muestra sigue una distribucion exponencial\n",
    "* H1: La muestra no sigue una distribucio exponencial\n",
    "\n",
    "Vemos si podemos rechazar (o no) H0."
   ]
  },
  {
   "cell_type": "code",
   "execution_count": 15,
   "metadata": {},
   "outputs": [
    {
     "name": "stdout",
     "output_type": "stream",
     "text": [
      "Datos exponenciales (No se puede rechazar H0)\n",
      "Datos exponenciales (No se puede rechazar H0)\n",
      "Datos exponenciales (No se puede rechazar H0)\n",
      "Datos exponenciales (No se puede rechazar H0)\n",
      "Datos exponenciales (No se puede rechazar H0)\n"
     ]
    }
   ],
   "source": [
    "from scipy import stats\n",
    "for i in range(5):\n",
    "    # creo muestra exponencial con mismos parametros que nuestros datos\n",
    "    exp = stats.expon.rvs(scale=1/lam, size=len(tiempos_entre_arribos))\n",
    "    kstest_test = stats.kstest(tiempos_entre_arribos, exp)\n",
    "    if kstest_test.pvalue > 0.05:\n",
    "        print('Datos exponenciales (No se puede rechazar H0)')\n",
    "    else:\n",
    "        print('Datos no exponenciales (Se rechaza H0)')"
   ]
  },
  {
   "cell_type": "markdown",
   "metadata": {},
   "source": [
    "## Ejercicio 4 b"
   ]
  },
  {
   "cell_type": "code",
   "execution_count": 98,
   "metadata": {},
   "outputs": [],
   "source": [
    "# PASAR GENERADOR DE EJERCICIO 1 A EXPONENCIAL\n",
    "# USAMOS MÉTODO DE ACEPTACIÓN RECHAZO\n",
    "\n",
    "# TERMINER\n",
    "\n",
    "# función de distribución de probabilidades conocida fy(x)\n",
    "def fy(x):\n",
    "    if x>=0 and x<=1:\n",
    "        return 1\n",
    "    return 0\n",
    "\n",
    "# función de distribución de probabilidades que queremos lograr (exponencial (0.5)) fx(x)\n",
    "def fx(x, lamb):\n",
    "    return lamb * exp(-lamb * x)\n",
    "\n",
    "\n",
    "def to_exp(x, lamb):\n",
    "    while k > c:\n",
    "        k = fx(x,lamb) / fy(x)\n",
    "    return k \n",
    "    \n",
    "    \n",
    "    \n",
    "    "
   ]
  },
  {
   "cell_type": "code",
   "execution_count": null,
   "metadata": {},
   "outputs": [],
   "source": []
  },
  {
   "cell_type": "code",
   "execution_count": 17,
   "metadata": {},
   "outputs": [
    {
     "data": {
      "image/png": "[encoded data removed]",
      "text/plain": [
       "<Figure size 640x480 with 1 Axes>"
      ]
     },
     "metadata": {},
     "output_type": "display_data"
    }
   ],
   "source": [
    "import numpy as np\n",
    "import matplotlib.pyplot as plt\n",
    "\n",
    "def run_poisson_process(lamb, tmax):\n",
    "    \n",
    "    generador = LXM()\n",
    "    \n",
    "    # Guaramos el tiempo de los arribos que van llegando\n",
    "    t=[]\n",
    "\n",
    "    # Partinmos desde t0=0\n",
    "    arribo=0\n",
    "\n",
    "    while (arribo <= tmax):\n",
    "        # Representa el tiempo entre el arribo tn y tn-1\n",
    "        z = generador.generate_exponential(lamb)\n",
    "#         z = to_exp(x, 0.5)\n",
    "        # Te paras en el anterior y le sumas el nuevo tiempo\n",
    "        arribo=arribo+z\n",
    "        # Lo agregas a la lista\n",
    "        t.append(arribo)\n",
    "    \n",
    "    return t\n",
    "\n",
    "# Parametro de la exponencial (0.5 HORAS)\n",
    "lamb = 1/0.5\n",
    "\n",
    "# tiempo maximo\n",
    "tmax = 30 * 24 #(HORAS)\n",
    "\n",
    "# Corro el proceso\n",
    "t = run_poisson_process(lam, tmax)\n",
    "\n",
    "# En este momento tu t0=0 y tn= tiempo del maximo arribo\n",
    "# Estan todos guardados en la lista\n",
    "    \n",
    "# Grafico \n",
    "# En el eje horizontal tenemos el tiempo\n",
    "# En el eje vertical tenemos la cantidad de arribos par aun instante t\n",
    "plt.step(t,range(len(t)),where= 'post' ,label=f'λ={lam}')\n",
    "plt.legend()\n",
    "plt.show()"
   ]
  },
  {
   "cell_type": "markdown",
   "metadata": {},
   "source": [
    "## Ejercicio 4 c"
   ]
  },
  {
   "cell_type": "code",
   "execution_count": 36,
   "metadata": {},
   "outputs": [],
   "source": [
    "# 1. Probabilidad que el primer vehículo arribe antes de los 10 minutos."
   ]
  },
  {
   "cell_type": "code",
   "execution_count": 38,
   "metadata": {},
   "outputs": [],
   "source": [
    "# TEÓRICO:\n",
    "# sn = tiempo del arribo n -> s1 = tiempo del arribo 1\n",
    "# si lambda = 0.5 entonce sn tiene distribucion gama(1, 0.5)\n",
    "# Ahora bien si tn es una variable aleatoria que modela el tiempo que transcurre entre el arribo n \n",
    "# y el n-1 y n=1 entonces t1 es tambien el tiempo del arribo 1\n",
    "# Luego t1 tiene distribución exponencial(0.5)\n",
    "# Se A = el primer vehiculo arriba antes de los 10 minutos (10/60 horas) entonces\n",
    "# queremos P(A < 10) = p ( t1 < 10) = 1 - e**- 0.5 10/60 = 0.079956 "
   ]
  },
  {
   "cell_type": "code",
   "execution_count": 55,
   "metadata": {},
   "outputs": [
    {
     "name": "stdout",
     "output_type": "stream",
     "text": [
      "0.078\n"
     ]
    }
   ],
   "source": [
    "# SIMULACIÓN\n",
    "\n",
    "# Parametro de la exponencial (0.5 HORAS)\n",
    "lamb = 1/0.5\n",
    "\n",
    "# tiempo maximo\n",
    "tmax = 30 * 24 #(HORAS)\n",
    "\n",
    "# cantindad de intentos\n",
    "n = 1000\n",
    "\n",
    "# Calculo los casos favorables\n",
    "favorables = 0\n",
    "#corro 1000 veces el experimento\n",
    "for i in range (0,n):\n",
    "    t = run_poisson_process(lamb, tmax)\n",
    "    \n",
    "    t_primer_arribo = t[0]\n",
    "    \n",
    "    if t_primer_arribo < 10/60:\n",
    "        favorables += 1\n",
    "\n",
    "# P = Favoriables / totales\n",
    "P = favorables / n\n",
    "\n",
    "print(P)"
   ]
  },
  {
   "cell_type": "code",
   "execution_count": null,
   "metadata": {},
   "outputs": [],
   "source": [
    "# 2. Probabilidad que el undécimo vehículo arribe después de los 60 minutos."
   ]
  },
  {
   "cell_type": "code",
   "execution_count": null,
   "metadata": {},
   "outputs": [],
   "source": [
    "# TEORICO\n",
    "# S11 = tiempo del undecimo arribo, s11 tiene distribucion gama de parametros (11, 0.5)\n",
    "# Queremos la probabilidad de que S11 > 1 (60 min)\n",
    "# Sea N(t) una variable aleatoria que modela la cantidad de arribos entre 0 y t entonces N(1) modela la cantidad de arribos en 1h\n",
    "# N(t) tiene distribucion poisson de parametro(lambda t) entonces N(1) tiene distribucion poisson (0.5 1)\n",
    "# Si el undecimo vehiculo arriba despues de la primera hora entonces en 1 hora deben arriba 10 o menos entonces:\n",
    "# Sea B = En la primera hora arriban 10 o menos vehiculo entonces P(S11) = P(B) = P(N(1) < 10) ) = \n",
    "# SUM i=0,10 (mu**x e-mu / x!) = 0.9999\n",
    "\n",
    "# Apendice:\n",
    "# ((0.5^0)*e^-0.5)/0!+((0.5^1)*e^-0.5)/1!+((0.5^2)*e^-0.5)/2!+((0.5^3)*e^-0.5)/3!+((0.5^4)*e^-0.5)/4!+((0.5^5)*e^-0.5)/5!+((0.5^6)*e^-0.5)/6!+((0.5^7)*e^-0.5)/7!+((0.5^8)*e^-0.5)/8!+((0.5^9)*e^-0.5)/9!+((0.5^10)*e^-0.5)/10!\n"
   ]
  },
  {
   "cell_type": "code",
   "execution_count": 59,
   "metadata": {},
   "outputs": [
    {
     "name": "stdout",
     "output_type": "stream",
     "text": [
      "1.0\n"
     ]
    }
   ],
   "source": [
    "# SIMULACIÓN\n",
    "\n",
    "# cantindad de intentos\n",
    "n = 1000\n",
    "\n",
    "# Parametro de la exponencial (0.5 HORAS)\n",
    "lamb = 1/0.5\n",
    "\n",
    "# tiempo maximo\n",
    "tmax = 30 * 24 #(HORAS)\n",
    "\n",
    "# Calculo los casos favorables\n",
    "favorables = 0\n",
    "\n",
    "#corro 1000 veces el experimento\n",
    "for i in range (0,n):\n",
    "    t = run_poisson_process(lamb, tmax)\n",
    "    \n",
    "    t_undecimo_arribo = t[11]\n",
    "    \n",
    "    if t_undecimo_arribo > 1:\n",
    "        favorables += 1\n",
    "\n",
    "# P = Favoriables / totales\n",
    "P = favorables / n\n",
    "\n",
    "print(P)"
   ]
  },
  {
   "cell_type": "code",
   "execution_count": null,
   "metadata": {},
   "outputs": [],
   "source": [
    "# 3. Probabilidad que arriben al menos 750 vehículos antes de las 72 horas."
   ]
  },
  {
   "cell_type": "code",
   "execution_count": 96,
   "metadata": {},
   "outputs": [
    {
     "ename": "OverflowError",
     "evalue": "int too large to convert to float",
     "output_type": "error",
     "traceback": [
      "\u001b[1;31m---------------------------------------------------------------------------\u001b[0m",
      "\u001b[1;31mOverflowError\u001b[0m                             Traceback (most recent call last)",
      "\u001b[1;32m~\\AppData\\Local\\Temp/ipykernel_7280/1504790644.py\u001b[0m in \u001b[0;36m<module>\u001b[1;34m\u001b[0m\n\u001b[0;32m     12\u001b[0m \u001b[1;33m\u001b[0m\u001b[0m\n\u001b[0;32m     13\u001b[0m \u001b[1;32mfor\u001b[0m \u001b[0mx\u001b[0m \u001b[1;32min\u001b[0m \u001b[0mrange\u001b[0m\u001b[1;33m(\u001b[0m\u001b[1;36m0\u001b[0m\u001b[1;33m,\u001b[0m\u001b[1;36m750\u001b[0m\u001b[1;33m)\u001b[0m\u001b[1;33m:\u001b[0m\u001b[1;33m\u001b[0m\u001b[1;33m\u001b[0m\u001b[0m\n\u001b[1;32m---> 14\u001b[1;33m     \u001b[0mP\u001b[0m \u001b[1;33m+=\u001b[0m \u001b[0mp\u001b[0m\u001b[1;33m(\u001b[0m\u001b[0mx\u001b[0m\u001b[1;33m,\u001b[0m \u001b[0mmu\u001b[0m\u001b[1;33m)\u001b[0m\u001b[1;33m\u001b[0m\u001b[1;33m\u001b[0m\u001b[0m\n\u001b[0m",
      "\u001b[1;32m~\\AppData\\Local\\Temp/ipykernel_7280/1504790644.py\u001b[0m in \u001b[0;36mp\u001b[1;34m(x, mu)\u001b[0m\n\u001b[0;32m      8\u001b[0m \u001b[1;33m\u001b[0m\u001b[0m\n\u001b[0;32m      9\u001b[0m \u001b[1;32mdef\u001b[0m \u001b[0mp\u001b[0m\u001b[1;33m(\u001b[0m\u001b[0mx\u001b[0m\u001b[1;33m,\u001b[0m \u001b[0mmu\u001b[0m\u001b[1;33m)\u001b[0m\u001b[1;33m:\u001b[0m\u001b[1;33m\u001b[0m\u001b[1;33m\u001b[0m\u001b[0m\n\u001b[1;32m---> 10\u001b[1;33m     \u001b[1;32mreturn\u001b[0m \u001b[1;33m(\u001b[0m\u001b[1;33m(\u001b[0m\u001b[0mmu\u001b[0m\u001b[1;33m**\u001b[0m\u001b[0mx\u001b[0m\u001b[1;33m)\u001b[0m \u001b[1;33m*\u001b[0m \u001b[0mexp\u001b[0m\u001b[1;33m(\u001b[0m\u001b[1;33m-\u001b[0m\u001b[0mmu\u001b[0m\u001b[1;33m)\u001b[0m \u001b[1;33m/\u001b[0m \u001b[0mfactorial\u001b[0m\u001b[1;33m(\u001b[0m\u001b[0mx\u001b[0m\u001b[1;33m)\u001b[0m\u001b[1;33m)\u001b[0m\u001b[1;33m\u001b[0m\u001b[1;33m\u001b[0m\u001b[0m\n\u001b[0m\u001b[0;32m     11\u001b[0m \u001b[1;33m\u001b[0m\u001b[0m\n\u001b[0;32m     12\u001b[0m \u001b[1;33m\u001b[0m\u001b[0m\n",
      "\u001b[1;31mOverflowError\u001b[0m: int too large to convert to float"
     ]
    }
   ],
   "source": [
    "from math import exp, factorial\n",
    "\n",
    "# TEORICO\n",
    "\n",
    "P = 0\n",
    "\n",
    "mu = 0.5 * 72\n",
    "\n",
    "def p(x, mu):\n",
    "    return ((mu**x) * exp(-mu) / factorial(x))\n",
    "  \n",
    "\n",
    "for x in range(0,750):\n",
    "    P += p(x, mu)\n"
   ]
  },
  {
   "cell_type": "code",
   "execution_count": 92,
   "metadata": {},
   "outputs": [
    {
     "data": {
      "text/plain": [
       "258080348888515099592332164484462756339873138465439573430307783197416299243027155954177662782377988121786330241704205895696623863512136060073312399642903214981208677314332718179153141978050966912949044667285654509382893505742607320421138132489315975231024810455007561169027261467512016768219520949535523546245854587488300301587183831771306983230117702008541840588049868016262367530942050459679189959463016758263347175105682443459003758959420242420726446706871468610625180427774309822202013596386312335770257465620916795856541100240403653418300558044035800114916334162467899218825148943236293534338393691010564310549992850783040465739751374426786747138626367579170192142097000349188282966355601543364983866957807309071157224340301273138290328107224394242829508399720499754226069171146720700234961415691287653024650299449906791576444251896485737971148164303644519711822671071868913869053620498919344969212998198225423025504218155127792386786458610552302642301073848826614379519325627718818344197310234412241124626537898818059135881858620937671892189773976665326097756916365777800910711964674956323807152975316097362834398899617301975133152609071733317184179899830467924960162542548165522288593680830726827471269664435668435452031231830173305890851437975594409695453191272723171217148965163615764918779939588269561484233990603264734628306313494325446968691199021480680030775923198882305274863248464494464792535591126770493037747746544723130922945086462793250633576961329623263968229991681219729167736126795908539581595379671619786936503310162538854374487828471187674691932819466467181689212704982380869534574016124715756846188037238391662694608404480000000000000000000000000000000000000000000000000000000000000000000000000000000000000000000000000000000000000000000000000000000000000000000000000000000000000000000000000000000000000000000"
      ]
     },
     "execution_count": 92,
     "metadata": {},
     "output_type": "execute_result"
    }
   ],
   "source": [
    "factorial(750)"
   ]
  },
  {
   "cell_type": "code",
   "execution_count": 77,
   "metadata": {},
   "outputs": [
    {
     "name": "stdout",
     "output_type": "stream",
     "text": [
      "0.0\n"
     ]
    }
   ],
   "source": [
    "# SIMULACIÓN\n",
    "\n",
    "# cantindad de intentos\n",
    "n = 1000\n",
    "\n",
    "# Parametro de la exponencial 4 vehiculos por hora aprox\n",
    "lamb = 1/0.5\n",
    "\n",
    "# tiempo maximo -> Por propiedad de perdida de memoria de la exponencial\n",
    "tmax = 72 #(HORAS)\n",
    "\n",
    "# Calculo los casos favorables\n",
    "favorables = 0\n",
    "\n",
    "#corro 1000 veces el experimento\n",
    "for i in range (0,n):\n",
    "    t = run_poisson_process(lamb, tmax)\n",
    "    \n",
    "    cant_arribos = len(t)\n",
    "    \n",
    "    if cant_arribos >= 750:\n",
    "        favorables += 1   \n",
    "\n",
    "# P = Favoriables / totales\n",
    "P = favorables / n\n",
    "\n",
    "print(P)"
   ]
  },
  {
   "cell_type": "code",
   "execution_count": null,
   "metadata": {},
   "outputs": [],
   "source": []
  }
 ],
 "metadata": {
  "kernelspec": {
   "display_name": "Python 3 (ipykernel)",
   "language": "python",
   "name": "python3"
  },
  "language_info": {
   "codemirror_mode": {
    "name": "ipython",
    "version": 3
   },
   "file_extension": ".py",
   "mimetype": "text/x-python",
   "name": "python",
   "nbconvert_exporter": "python",
   "pygments_lexer": "ipython3",
   "version": "3.10.7"
  },
  "vscode": {
   "interpreter": {
    "hash": "eebde931c0e338eedc4bcfcfb4174386194d1b5c4b62322dd7000902b99a59fb"
   }
  }
 },
 "nbformat": 4,
 "nbformat_minor": 2
}
