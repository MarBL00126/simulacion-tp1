{
 "cells": [
  {
   "cell_type": "markdown",
   "metadata": {},
   "source": [
    "# Trabajo Práctico 1\n",
    "\n",
    "## Simulación 75.26 / 95.19\n",
    "\n",
    "## Grupo: 4\n",
    "\n",
    "## Generador de números pseudoaleatorios: LXM\n",
    "\n",
    "### Integrantes del grupo:\n",
    "\n",
    "* Gestoso, Ramiro\n",
    "    * Padrón 105950\n",
    "* Brizuela Lopez, Mariano\n",
    "    * Padrón 105079\n",
    "* Markarian, Darío Hernan\n",
    "    * Padrón 98684\n",
    "* Ripetour, Diego\n",
    "    * Padrón 86601"
   ]
  },
  {
   "cell_type": "markdown",
   "metadata": {},
   "source": [
    "### Imports"
   ]
  },
  {
   "cell_type": "code",
   "execution_count": 2,
   "metadata": {},
   "outputs": [],
   "source": [
    "from numpy import uint64\n",
    "import numpy as np\n",
    "from math import exp, factorial\n",
    "import seaborn as sns\n",
    "import numpy as np\n",
    "import matplotlib.pyplot as plt\n",
    "from scipy import stats\n",
    "import warnings\n",
    "warnings.filterwarnings(\"ignore\")"
   ]
  },
  {
   "cell_type": "markdown",
   "metadata": {},
   "source": [
    "# Implementación del generador asignado LXM"
   ]
  },
  {
   "cell_type": "markdown",
   "metadata": {},
   "source": [
    "## Definicion de Generador LXM\n",
    "\n",
    "Permite generar una cantidad N de numeros:\n",
    "* uniformes (nextRand)\n",
    "* normales con media y desvío cualesquiera (generate_normal)\n",
    "* exponenciales (generate_exponential)"
   ]
  },
  {
   "cell_type": "code",
   "execution_count": 3,
   "metadata": {},
   "outputs": [],
   "source": [
    "N_BITS = uint64(64)\n",
    "def rotateLeft(n, d):\n",
    "    n = uint64(n)\n",
    "    d = uint64(d)\n",
    "    return (n << d)|(n >> (N_BITS - d))\n",
    "\n",
    "def shiftLeft(n, d):\n",
    "    n = uint64(n)\n",
    "    d = uint64(d)\n",
    "    return n << d\n",
    "\n",
    "def shiftRight(n, d):\n",
    "    n = uint64(n)\n",
    "    d = uint64(d)\n",
    "    return n >> d\n",
    "\n",
    "class LXM:\n",
    "\n",
    "    M = uint64(0xd1342543de82ef95)\n",
    "    a = uint64(13)\n",
    "    s = uint64(0)\n",
    "    x0 = uint64(11)\n",
    "    x1 = uint64(57)\n",
    "    c = uint64(0xdaba0b6eb09322e3)\n",
    "    \n",
    "    def __init__(self, seed=11):\n",
    "        self.x0 = uint64(seed)\n",
    "        if self.x0 == self.x1:\n",
    "            self.x1 += 1\n",
    "    \n",
    "    def nextRand(self, n=1):\n",
    "        if n < 1:\n",
    "            raise Exception(\"'n' must be 1 or greater\")\n",
    "\n",
    "        numbers = []\n",
    "        for i in range(n):\n",
    "            # Combining operation\n",
    "            z = self.s + self.x0\n",
    "            # Mixing function (lea64)\n",
    "            z = (z ^ (shiftRight(z, 32))) * self.c\n",
    "            z = (z ^ (shiftRight(z, 32))) * self.c\n",
    "            z = (z ^ (shiftRight(z, 32)))\n",
    "            # Update the LCG subgenerator\n",
    "            self.s = self.M * self.s + self.a\n",
    "            # Update the XBG subgenerator (xoroshiro128v1_0)\n",
    "            q0, q1 = self.x0, self.x1\n",
    "            q1 ^= q0\n",
    "            q0 = rotateLeft(q0, 24)\n",
    "            q1 = q0 ^ q1 ^ (shiftLeft(q1, 24))\n",
    "            q1 = rotateLeft(q1, 37)\n",
    "            self.x0, self.x1 = q0, q1\n",
    "            #result\n",
    "            numbers.append(z / uint64(-1))\n",
    "            \n",
    "        return numbers[0] if n==1 else np.array(numbers)\n",
    "\n",
    "    def generate_normal(self, mean, deviation, n=1):\n",
    "        if n < 1:\n",
    "            raise Exception(\"'n' must be 1 or greater\")\n",
    "        U1 = self.nextRand(n)\n",
    "        U2 = self.nextRand(n)\n",
    "        R = np.sqrt(-2* np.log(U1))\n",
    "        Theta = 2 * np.pi * U2\n",
    "        #normal_1 = R * np.cos(Theta)\n",
    "        normal = R * np.sin(Theta)\n",
    "        return deviation*normal + mean\n",
    "    \n",
    "    def generate_exponential(self, param, n=1):\n",
    "        if n < 1:\n",
    "            raise Exception(\"'n' must be 1 or greater\")\n",
    "        if param < 0:\n",
    "            raise Exception(\"the exponential parameter must be greater than 0\")\n",
    "        U = self.nextRand(n)\n",
    "        return (-1/param)*np.log(1-U)\n",
    "        "
   ]
  },
  {
   "cell_type": "markdown",
   "metadata": {},
   "source": [
    "### Instanciamos el generador"
   ]
  },
  {
   "cell_type": "code",
   "execution_count": 4,
   "metadata": {},
   "outputs": [],
   "source": [
    "gen = LXM(31)"
   ]
  },
  {
   "cell_type": "markdown",
   "metadata": {},
   "source": [
    "## Graficamos los numeros generados"
   ]
  },
  {
   "cell_type": "markdown",
   "metadata": {},
   "source": [
    "### Generación numeros con distribución uniforme en el intervalo 0 - 1"
   ]
  },
  {
   "cell_type": "code",
   "execution_count": 5,
   "metadata": {
    "scrolled": false
   },
   "outputs": [
    {
     "data": {
      "image/png": "[encoded data removed]",
      "text/plain": [
       "<Figure size 432x288 with 1 Axes>"
      ]
     },
     "metadata": {
      "needs_background": "light"
     },
     "output_type": "display_data"
    }
   ],
   "source": [
    "arr = gen.nextRand(100_000)\n",
    "sns.histplot(bins=50, x=arr)\n",
    "plt.title(\"Uniforme en el intervalo (0,1)\")\n",
    "plt.show()"
   ]
  },
  {
   "cell_type": "markdown",
   "metadata": {},
   "source": [
    "### Generación de uniforme en el intervalo a - b"
   ]
  },
  {
   "cell_type": "code",
   "execution_count": 6,
   "metadata": {},
   "outputs": [
    {
     "data": {
      "image/png": "[encoded data removed]",
      "text/plain": [
       "<Figure size 432x288 with 1 Axes>"
      ]
     },
     "metadata": {
      "needs_background": "light"
     },
     "output_type": "display_data"
    }
   ],
   "source": [
    "a = 2\n",
    "b = 5\n",
    "nums = gen.nextRand(100_000)\n",
    "nums = nums * (b-a) + a\n",
    "\n",
    "sns.histplot(bins=50, x=nums)\n",
    "plt.title(\"Uniforme en el intervalo (2,5)\")\n",
    "plt.show()"
   ]
  },
  {
   "cell_type": "markdown",
   "metadata": {},
   "source": [
    "### Generacion de Normal Estandar con 2 uniformes - Metodo de Box Muller"
   ]
  },
  {
   "cell_type": "code",
   "execution_count": 7,
   "metadata": {},
   "outputs": [
    {
     "data": {
      "image/png": "[encoded data removed]",
      "text/plain": [
       "<Figure size 432x288 with 1 Axes>"
      ]
     },
     "metadata": {
      "needs_background": "light"
     },
     "output_type": "display_data"
    }
   ],
   "source": [
    "sns.histplot(bins=100, x=gen.generate_normal(0, 1, 100_000))\n",
    "plt.title(\"Normal Estándar\")\n",
    "plt.show()"
   ]
  },
  {
   "cell_type": "markdown",
   "metadata": {},
   "source": [
    "### Generar la variable aleatoria Normal con esperanza E y desvio D"
   ]
  },
  {
   "cell_type": "code",
   "execution_count": 8,
   "metadata": {},
   "outputs": [
    {
     "data": {
      "image/png": "[encoded data removed]",
      "text/plain": [
       "<Figure size 432x288 with 1 Axes>"
      ]
     },
     "metadata": {
      "needs_background": "light"
     },
     "output_type": "display_data"
    }
   ],
   "source": [
    "normal2 = gen.generate_normal(10, 2, 100_000)\n",
    "sns.histplot(bins=100, x=normal2)\n",
    "plt.title(\"Normal con media 10 y desvio 2\")\n",
    "plt.show()"
   ]
  },
  {
   "cell_type": "code",
   "execution_count": 9,
   "metadata": {},
   "outputs": [
    {
     "name": "stdout",
     "output_type": "stream",
     "text": [
      "Normal(10,2)\n",
      "Esperanza = 9.99\n",
      "Desvio = 2.0\n"
     ]
    }
   ],
   "source": [
    "# Verificamos\n",
    "esp = round(normal2.mean(), 2)\n",
    "desv = round(normal2.std(), 2)\n",
    "print(f'Normal(10,2)\\nEsperanza = {esp}\\nDesvio = {desv}')"
   ]
  },
  {
   "cell_type": "markdown",
   "metadata": {},
   "source": [
    "### Generación de Exponencial con parámetro 1"
   ]
  },
  {
   "cell_type": "code",
   "execution_count": 10,
   "metadata": {},
   "outputs": [
    {
     "data": {
      "image/png": "[encoded data removed]",
      "text/plain": [
       "<Figure size 432x288 with 1 Axes>"
      ]
     },
     "metadata": {
      "needs_background": "light"
     },
     "output_type": "display_data"
    }
   ],
   "source": [
    "exp = gen.generate_exponential(1, 100_000)\n",
    "sns.histplot(exp)\n",
    "plt.title('Exponencial')\n",
    "plt.show()"
   ]
  },
  {
   "cell_type": "markdown",
   "metadata": {},
   "source": [
    "## Test de uniformidad - Chi 2\n",
    "* H0: La muestra sigue una distribucion uniforme\n",
    "* H1: La muestra no sigue una distribucio uniforme\n",
    "\n",
    "Vemos si podemos rechazar (o no) H0."
   ]
  },
  {
   "cell_type": "code",
   "execution_count": 11,
   "metadata": {},
   "outputs": [
    {
     "name": "stdout",
     "output_type": "stream",
     "text": [
      "El test acepta la hipotesis nula.\n",
      "El test acepta la hipotesis nula.\n",
      "El test acepta la hipotesis nula.\n"
     ]
    }
   ],
   "source": [
    "from scipy.stats import chi2\n",
    "\n",
    "for n in [10, 10_000, 100_000]:\n",
    "    \n",
    "    data = gen.nextRand(n)\n",
    "\n",
    "    bins=50\n",
    "\n",
    "    frecuencias = np.histogram(data,bins=bins,density=False)[0]    \n",
    "\n",
    "    cantidad = len(data)\n",
    "\n",
    "    limiteSuperior = chi2.ppf(0.95, df=bins-1)\n",
    "\n",
    "    Ei=cantidad/bins\n",
    "\n",
    "    D2 = sum([(Oi - Ei)**2 for Oi in frecuencias])/Ei\n",
    "\n",
    "    if D2 <= limiteSuperior:\n",
    "        print(\"El test acepta la hipotesis nula.\")\n",
    "    else:\n",
    "        print(\"El test rechaza la hipótesis nula\")"
   ]
  },
  {
   "cell_type": "markdown",
   "metadata": {},
   "source": [
    "## Test de uniformidad - Kolmogorov Smirnov\n",
    "* H0: La muestra sigue una distribucion uniforme\n",
    "* H1: La muestra no sigue una distribucio uniforme\n",
    "\n",
    "Vemos si podemos rechazar (o no) H0."
   ]
  },
  {
   "cell_type": "code",
   "execution_count": 12,
   "metadata": {},
   "outputs": [
    {
     "name": "stdout",
     "output_type": "stream",
     "text": [
      "Datos no uniformes (Se rechaza H0)\n",
      "Datos uniformes (No se puede rechazar H0)\n",
      "Datos uniformes (No se puede rechazar H0)\n"
     ]
    }
   ],
   "source": [
    "for n in [10, 10_000, 100_000]:\n",
    "    data = gen.nextRand(n)\n",
    "    kstest_test = stats.kstest(data, 'uniform')\n",
    "    if kstest_test.pvalue > 0.05:\n",
    "        print('Datos uniformes (No se puede rechazar H0)')\n",
    "    else:\n",
    "        print('Datos no uniformes (Se rechaza H0)')"
   ]
  },
  {
   "cell_type": "markdown",
   "metadata": {},
   "source": [
    "## Test de uniformidad - Gap test\n"
   ]
  },
  {
   "cell_type": "code",
   "execution_count": 59,
   "metadata": {},
   "outputs": [
    {
     "name": "stdout",
     "output_type": "stream",
     "text": [
      "numeros de muestras:[4, 6, 8, 10]\n",
      "gaps:[2 2 2]\n",
      "probabilidad para cada gap:[0.14699999999999996, 0.14699999999999996, 0.14699999999999996]\n",
      "cantidad de gaps:3\n",
      "El test rechaza la hipótesis nula\n"
     ]
    }
   ],
   "source": [
    "def subintervalo(data,alfa,beta):\n",
    "    numeros=[]\n",
    "    for i in range(1,n+1):\n",
    "        #print(data[i-1])    \n",
    "        if data[i-1] >alfa and data[i-1]<beta:\n",
    "            #print( ' la muestra '+str(i)+' vale '+str(data[i-1])+' y está en rango' )\n",
    "            numeros.append(i)\n",
    "        else:\n",
    "            #print( ' la muestra '+str(i)+' vale '+str(data[i-1])+' y NO está en rango' )\n",
    "            pass\n",
    "    return numeros\n",
    "\n",
    "def calcular_probabilidad(n,alfa,beta):\n",
    "    p=beta-alfa    \n",
    "    return p*( (1-p)**n )\n",
    "\n",
    "n = 10\n",
    "alfa = 0.3\n",
    "beta = 0.6\n",
    "data = gen.nextRand(n)\n",
    "\n",
    "#obtengo los numeros de muestras que pertenecen al intervalo alfa beta\n",
    "numeros=subintervalo(data,alfa,beta)\n",
    "\n",
    "print('numeros de muestras:'+str(numeros))\n",
    "\n",
    "#obtengo los gaps (distancias entre los numeros de muestras)\n",
    "gaps = np.diff(numeros)\n",
    "\n",
    "print('gaps:'+str(gaps))\n",
    "\n",
    "#calculo la probabilidad para cada gap\n",
    "prob=[]\n",
    "for i in gaps:\n",
    "    prob.append( calcular_probabilidad(i,alfa,beta) )\n",
    "print('probabilidad para cada gap:'+str(prob))\n",
    "    \n",
    "from scipy.stats import chi2\n",
    "\n",
    "#ahora aplico el test de chi cuadrado usando la probabilidad calculada previamente    \n",
    "cantidad = len(gaps)\n",
    "\n",
    "print('cantidad de gaps:'+str(cantidad))\n",
    "\n",
    "bins=cantidad\n",
    "\n",
    "frec_observ = np.histogram(data,bins=bins,density=False)[0]    \n",
    "\n",
    "limiteSuperior = chi2.ppf(0.95, df=bins-1)\n",
    "\n",
    "frec_esp=prob*cantidad\n",
    "\n",
    "suma = 0\n",
    "for i in range(0,cantidad):\n",
    "    suma = suma+( ( (frec_observ[i] - frec_esp[i])**2) / frec_esp[i] )\n",
    "D2 = suma\n",
    "        \n",
    "if D2 <= limiteSuperior:\n",
    "    print(\"El test acepta la hipotesis nula.\")\n",
    "else:\n",
    "    print(\"El test rechaza la hipótesis nula\")    "
   ]
  },
  {
   "cell_type": "markdown",
   "metadata": {},
   "source": [
    "\n",
    "## Test de normalidad - Anderson-Darling\n",
    "\n",
    "* H0: La muestra sigue una distribucion normal\n",
    "* H1: La muestra no sigue una distribucio normal\n",
    "\n",
    "Vemos si podemos rechazar (o no) H0."
   ]
  },
  {
   "cell_type": "code",
   "execution_count": 545,
   "metadata": {},
   "outputs": [
    {
     "name": "stdout",
     "output_type": "stream",
     "text": [
      "\n",
      "Test n = 10\n",
      "Estadístico: 0.486\n",
      "0.150: 0.501, Datos normales (No se puede rechazar H0)\n",
      "0.100: 0.570, Datos normales (No se puede rechazar H0)\n",
      "0.050: 0.684, Datos normales (No se puede rechazar H0)\n",
      "0.025: 0.798, Datos normales (No se puede rechazar H0)\n",
      "0.010: 0.950, Datos normales (No se puede rechazar H0)\n",
      "\n",
      "Test n = 10000\n",
      "Estadístico: 0.709\n",
      "0.150: 0.576, Datos No normales (Se rechaza H0)\n",
      "0.100: 0.656, Datos No normales (Se rechaza H0)\n",
      "0.050: 0.787, Datos normales (No se puede rechazar H0)\n",
      "0.025: 0.918, Datos normales (No se puede rechazar H0)\n",
      "0.010: 1.092, Datos normales (No se puede rechazar H0)\n",
      "\n",
      "Test n = 50000\n",
      "Estadístico: 0.616\n",
      "0.150: 0.576, Datos No normales (Se rechaza H0)\n",
      "0.100: 0.656, Datos normales (No se puede rechazar H0)\n",
      "0.050: 0.787, Datos normales (No se puede rechazar H0)\n",
      "0.025: 0.918, Datos normales (No se puede rechazar H0)\n",
      "0.010: 1.092, Datos normales (No se puede rechazar H0)\n"
     ]
    }
   ],
   "source": [
    "for n in [10, 10_000, 50_000]:\n",
    "    print(f\"\\nTest n = {n}\")\n",
    "    data = gen.generate_normal(2, 10, n)\n",
    "    #Ejecutamos el test de normalidad (por defecto compara contra Normal)\n",
    "    resultado = stats.anderson(data)\n",
    "    print('Estadístico: %.3f' % resultado.statistic)\n",
    "    for i in range(len(resultado.critical_values)):\n",
    "        nivel_significancia, umbral = resultado.significance_level[i]/100, resultado.critical_values[i]\n",
    "        if resultado.statistic < resultado.critical_values[i]:\n",
    "            print('%.3f: %.3f, Datos normales (No se puede rechazar H0)' % (nivel_significancia, umbral))\n",
    "        else:\n",
    "            print('%.3f: %.3f, Datos No normales (Se rechaza H0)' % (nivel_significancia, umbral))"
   ]
  },
  {
   "cell_type": "markdown",
   "metadata": {},
   "source": [
    "### Test de normalidad - Saphiro"
   ]
  },
  {
   "cell_type": "code",
   "execution_count": 546,
   "metadata": {},
   "outputs": [
    {
     "name": "stdout",
     "output_type": "stream",
     "text": [
      "Datos normales (No se puede rechazar H0)\n",
      "Datos normales (No se puede rechazar H0)\n",
      "Datos normales (No se puede rechazar H0)\n"
     ]
    }
   ],
   "source": [
    "for n in [10, 10_000, 100_000]:\n",
    "    data = gen.generate_normal(2, 10, n)\n",
    "    shapiro_test = stats.shapiro(data)\n",
    "    if shapiro_test.pvalue > 0.05:\n",
    "        print('Datos normales (No se puede rechazar H0)')\n",
    "    else:\n",
    "        print('Datos no normales (Se rechaza H0)')"
   ]
  },
  {
   "cell_type": "markdown",
   "metadata": {},
   "source": [
    "# Proceso de Poisson"
   ]
  },
  {
   "cell_type": "markdown",
   "metadata": {},
   "source": [
    "## Cargamos el archivo txt"
   ]
  },
  {
   "cell_type": "code",
   "execution_count": 547,
   "metadata": {},
   "outputs": [],
   "source": [
    "tiempos_entre_arribos = np.loadtxt('tiempos_entre_arribos.txt')"
   ]
  },
  {
   "cell_type": "markdown",
   "metadata": {},
   "source": [
    "## Graficamos la distribución de los datos\n",
    "Los tiempos entre arribos deberian estar distribuidos como una exponencial."
   ]
  },
  {
   "cell_type": "code",
   "execution_count": 548,
   "metadata": {},
   "outputs": [
    {
     "data": {
      "image/png": "[encoded data removed]",
      "text/plain": [
       "<Figure size 640x480 with 1 Axes>"
      ]
     },
     "metadata": {},
     "output_type": "display_data"
    }
   ],
   "source": [
    "sns.histplot(tiempos_entre_arribos)\n",
    "plt.title('Distribución de los tiempos entre arribos')\n",
    "plt.xlabel('Intervalo en horas')\n",
    "plt.ylabel('Cantidad de arribos')\n",
    "plt.show()"
   ]
  },
  {
   "cell_type": "markdown",
   "metadata": {},
   "source": [
    "Si hacemos la suma acumulativa, obtenemos todos los eventos de un proceso de Poisson."
   ]
  },
  {
   "cell_type": "code",
   "execution_count": 563,
   "metadata": {},
   "outputs": [
    {
     "data": {
      "image/png": "[encoded data removed]",
      "text/plain": [
       "<Figure size 640x480 with 1 Axes>"
      ]
     },
     "metadata": {},
     "output_type": "display_data"
    }
   ],
   "source": [
    "eventos_proceso = tiempos_entre_arribos.cumsum()\n",
    "plt.step(x=eventos_proceso, y=range(len(eventos_proceso)),where= 'post')\n",
    "plt.title('Eventos del proceso de Poisson')\n",
    "plt.ylabel('Cantidad de eventos')\n",
    "plt.xlabel('Hora del evento')\n",
    "plt.show()"
   ]
  },
  {
   "cell_type": "markdown",
   "metadata": {},
   "source": [
    "### Estimamos el valor de la tasa de arribos mediante la distribución de intervalo de tiempo entre arribos"
   ]
  },
  {
   "cell_type": "markdown",
   "metadata": {},
   "source": [
    "Estimamos la tasa de arribos $\\lambda$ como el parametro de las exponenciales (tiempo entre arribos). Calculamos la media de las exponenciales y $\\lambda$ será $\\frac{1}{media}$"
   ]
  },
  {
   "cell_type": "code",
   "execution_count": 550,
   "metadata": {},
   "outputs": [
    {
     "name": "stdout",
     "output_type": "stream",
     "text": [
      "El parametro lambda es 9.89 arribos de vehiculos por hora\n"
     ]
    }
   ],
   "source": [
    "lam = round(1/tiempos_entre_arribos.mean(), 2)\n",
    "print(f'El parametro lambda es {lam} arribos de vehiculos por hora')"
   ]
  },
  {
   "cell_type": "markdown",
   "metadata": {},
   "source": [
    "## Realizamos un test sobre los tiempos entre arribos para confirmar que provienen de una distribucion exponencial y por lo tanto tratamos con un proceso de Poisson\n",
    "\n",
    "Realizamos un Test de Kolmogorov Smirnov\n",
    "* H0: La muestra sigue una distribucion exponencial\n",
    "* H1: La muestra no sigue una distribucio exponencial\n",
    "\n",
    "Vemos si podemos rechazar (o no) H0."
   ]
  },
  {
   "cell_type": "code",
   "execution_count": 551,
   "metadata": {},
   "outputs": [
    {
     "name": "stdout",
     "output_type": "stream",
     "text": [
      "Datos exponenciales (No se puede rechazar H0)\n",
      "Datos exponenciales (No se puede rechazar H0)\n",
      "Datos exponenciales (No se puede rechazar H0)\n",
      "Datos exponenciales (No se puede rechazar H0)\n",
      "Datos exponenciales (No se puede rechazar H0)\n"
     ]
    }
   ],
   "source": [
    "# Se repite varias veces el test\n",
    "for i in range(5):\n",
    "    # creo muestra exponencial con mismos parametros que nuestros datos\n",
    "    exp = stats.expon.rvs(scale=1/lam, size=len(tiempos_entre_arribos))\n",
    "    \n",
    "    kstest_test = stats.kstest(tiempos_entre_arribos, exp)\n",
    "    \n",
    "    if kstest_test.pvalue > 0.05:\n",
    "        print('Datos exponenciales (No se puede rechazar H0)')\n",
    "    else:\n",
    "        print('Datos no exponenciales (Se rechaza H0)')"
   ]
  },
  {
   "cell_type": "markdown",
   "metadata": {},
   "source": [
    "## Simulación de llegada de vehiculos durante un mes"
   ]
  },
  {
   "cell_type": "markdown",
   "metadata": {},
   "source": [
    "### Definimos un generador de procesos de Poisson usando el generador LXM"
   ]
  },
  {
   "cell_type": "code",
   "execution_count": 552,
   "metadata": {},
   "outputs": [],
   "source": [
    "def run_poisson_process(generator, lamb, tmax):\n",
    "    # Guaramos el tiempo de los arribos que van llegando\n",
    "    t=[]\n",
    "    \n",
    "    # Partinmos desde t0=0\n",
    "    arribo = 0\n",
    "    \n",
    "    arribo += generator.generate_exponential(lamb)\n",
    "    while (arribo <= tmax):\n",
    "        # Se agrega a la lista\n",
    "        t.append(arribo)\n",
    "        # Se genera un nuevo arribo\n",
    "        z = generator.generate_exponential(lamb)\n",
    "        # Se suma al arribo anterior\n",
    "        arribo = arribo + z\n",
    "       \n",
    "    return t"
   ]
  },
  {
   "cell_type": "markdown",
   "metadata": {},
   "source": [
    "### Realizamos la simulación"
   ]
  },
  {
   "cell_type": "code",
   "execution_count": 553,
   "metadata": {},
   "outputs": [
    {
     "data": {
      "image/png": "[encoded data removed]",
      "text/plain": [
       "<Figure size 640x480 with 1 Axes>"
      ]
     },
     "metadata": {},
     "output_type": "display_data"
    }
   ],
   "source": [
    "# Parametro de la exponencial (9.89 en horas)\n",
    "lamb = 9.89\n",
    "\n",
    "# definimos un mes\n",
    "tmax = 30*24 #(HORAS)\n",
    "\n",
    "# Corro el proceso\n",
    "t = run_poisson_process(LXM(19), lamb, tmax)\n",
    "    \n",
    "plt.step(t,range(len(t)),where= 'post' ,label=f'λ={lamb}')\n",
    "plt.xlabel('Tiempo')\n",
    "plt.ylabel('Arribos en el tiempo t')\n",
    "plt.legend()\n",
    "plt.show()"
   ]
  },
  {
   "cell_type": "markdown",
   "metadata": {},
   "source": [
    "## Estimamos distintas probabilidades a partir de simulaciones"
   ]
  },
  {
   "cell_type": "code",
   "execution_count": 554,
   "metadata": {},
   "outputs": [],
   "source": [
    "# Seteamos parametros a usar\n",
    "generator = LXM(19)\n",
    "n = 1000 # repeticiones del proceso\n",
    "lamb = 9.89 # parametro de arribo de vehiculos por hora"
   ]
  },
  {
   "cell_type": "markdown",
   "metadata": {},
   "source": [
    "### Probabilidad que el primer vehículo arribe antes de los 10 minutos\n",
    "\n",
    "$ \\lambda = 9.89 \\cdot \\frac{vechiculos}{hora} $\n",
    "\n",
    "Para este problema, tenemos dos opciones para llegar al mismo resultado.\n",
    "\n",
    "1. Interpretar que dentro del intervalo de 10 minutos arribe al menos un vehículo\n",
    "\n",
    "$ N(t)\\sim Poisson(\\lambda t) $\n",
    "\n",
    "$ P(N(\\frac{1}{6})\\geq 1)=1 - P(N(\\frac{1}{6})< 1)=1 - P(N(\\frac{1}{6})=0)=1 - \\frac{(9.89\\cdot \\frac{1}{6})^0}{0!}\\cdot e^{-9.89\\cdot \\frac{1}{6}}=1-e^{-9.89\\cdot \\frac{1}{6}} \\approx 0.81$ \n",
    "\n",
    "2. Interpretar que el arribo del primer vehículo se dé antes de los 10 minutos.\n",
    "\n",
    "$ T \\sim \\varepsilon (\\lambda) $\n",
    "\n",
    "$ P(T\\leq\\frac{1}{6})=1-P(T>\\frac{1}{6})=1-e^{-9.89\\cdot \\frac{1}{6}} \\approx 0.81 $\n"
   ]
  },
  {
   "cell_type": "code",
   "execution_count": 555,
   "metadata": {},
   "outputs": [
    {
     "name": "stdout",
     "output_type": "stream",
     "text": [
      "Probabilidad resultado de la simulación: 0.79\n"
     ]
    }
   ],
   "source": [
    "# tiempo maximo\n",
    "tmax = 10/60 #(HORAS)\n",
    "\n",
    "# casos favorables\n",
    "favorables = 0\n",
    "\n",
    "# se corre 1000 veces el experimento\n",
    "for i in range (0,n):\n",
    "    t = run_poisson_process(generator, lamb, tmax)\n",
    "    \n",
    "    cant_arribos = len(t)\n",
    "    if cant_arribos >= 1:\n",
    "        favorables += 1\n",
    "\n",
    "P = favorables / n\n",
    "\n",
    "print(f'Probabilidad resultado de la simulación: {round(P,2)}')"
   ]
  },
  {
   "cell_type": "markdown",
   "metadata": {},
   "source": [
    "### Probabilidad que el undécimo vehículo arribe después de los 60 minutos\n",
    "\n",
    "Para este caso tenemos dos interpretaciones del mismo problema, que llevan al mismo resultado:\n",
    "\n",
    "1. Calcular que el tiempo de llegada del onceavo vehículo sea despues de los 60 minutos\n",
    "\n",
    "2. Calcular la probabilidad de que en 60 minutos no lleguen mas de 10 vehiculos\n",
    "\n",
    "Para este caso, optamos por la opcion 2.\n",
    "\n",
    "$ \\lambda = 9.89 \\cdot \\frac{vechiculos}{hora}$\n",
    "\n",
    "$ N(t)\\sim Poisson(\\lambda t) $\n",
    "\n",
    "$P(N(1)\\leq10)=\\sum_{n=0}^{10}\\frac{(9.89\\cdot 1)^n}{n!}\\cdot e^{-9.89\\cdot 1} \\approx 0.60$"
   ]
  },
  {
   "cell_type": "code",
   "execution_count": 556,
   "metadata": {},
   "outputs": [
    {
     "name": "stdout",
     "output_type": "stream",
     "text": [
      "Probabilidad resultado de la simulación: 0.63\n"
     ]
    }
   ],
   "source": [
    "# tiempo maximo\n",
    "tmax = 1 #(HORAS)\n",
    "\n",
    "# casos favorables\n",
    "favorables = 0\n",
    "\n",
    "# se corre 1000 veces el experimento\n",
    "for i in range (0,n):\n",
    "    t = run_poisson_process(generator, lamb, tmax)\n",
    "    \n",
    "    cant_arribos = len(t)\n",
    "    if cant_arribos <= 10:\n",
    "        favorables += 1\n",
    "\n",
    "P = favorables / n\n",
    "\n",
    "print(f'Probabilidad resultado de la simulación: {round(P,2)}')"
   ]
  },
  {
   "cell_type": "markdown",
   "metadata": {},
   "source": [
    "### Probabilidad que arriben al menos 750 vehículos antes de las 72 horas.\n",
    "\n",
    "Se interpreta como que, dentro de las primeras 72 horas, arriben al menos 750 vehículos.\n",
    "\n",
    "$ \\lambda = 9.89 \\cdot \\frac{vechiculos}{hora} $\n",
    "\n",
    "$ N(t)\\sim Poisson(\\lambda t) $\n",
    "\n",
    "$ P(N(72)\\geq 750)=1 - P(N(72)< 750)=1 - \\sum_{n=0}^{749}\\frac{(9.89\\cdot 72)^n}{n!}\\cdot e^{-9.89\\cdot 72}\\approx 0.08 $ "
   ]
  },
  {
   "cell_type": "code",
   "execution_count": 557,
   "metadata": {},
   "outputs": [
    {
     "name": "stdout",
     "output_type": "stream",
     "text": [
      "Probabilidad resultado de la simulación: 0.07\n"
     ]
    }
   ],
   "source": [
    "# tiempo maximo\n",
    "tmax = 72 #(HORAS)\n",
    "\n",
    "# casos favorables\n",
    "favorables = 0\n",
    "\n",
    "# se corre 1000 veces el experimento\n",
    "for i in range (0,n):\n",
    "    t = run_poisson_process(generator, lamb, tmax)\n",
    "    \n",
    "    cant_arribos = len(t)\n",
    "    if cant_arribos >= 750:\n",
    "        favorables += 1 \n",
    "\n",
    "P = favorables / n\n",
    "\n",
    "print(f'Probabilidad resultado de la simulación: {round(P,2)}')"
   ]
  },
  {
   "cell_type": "markdown",
   "metadata": {},
   "source": [
    "### Generar y graficar puntos en distintas partes de la ciudad \n",
    "Aqui con la ayuda del generador propuesto en el ejercicio 1, generaremos de manera uniforme la latitud y longitud para con ellos graficar un punto aleatorio en cada barrio de la ciudad"
   ]
  },
  {
   "cell_type": "code",
   "execution_count": null,
   "metadata": {},
   "outputs": [],
   "source": [
    "import folium\n",
    "import geopandas as gp\n",
    "#Aqui declaramos los vectores de las latitudes y longitudes de los barrios de la ciudad\n",
    "lats=[]\n",
    "lons=[]  \n",
    "#Aqui plotearemos los limites de los barrios de la ciudad\n",
    "info_barrios=gp.read_file(\"caba_barrios.json\")\n",
    "json_barrios = json.load(open(\"caba_barrios.json\"))\n",
    "caract_barrios=json_barrios['features']\n",
    "geoPath=info_barrios.geometry.to_json()\n",
    "poligons=folium.features.GeoJson(geoPath)\n",
    "m.add_child(poligons)\n",
    "\n",
    "#Aqui llenaremos los vectores de longitudes y latitudes de cada barrio\n",
    "for k in range(0,len(info_barrios)):\n",
    "    barrios=caract_barrios[k]['geometry']['coordinates'][0]\n",
    "    for i in barrios:\n",
    "        for j in i:\n",
    "            \n",
    "            lons.append(j[0])\n",
    "            lats.append(j[1])\n",
    "    #Aqui vamos a declarar a los primeros y utlimos valores de los vectores para luego utilizarlos en nuestro generador\n",
    "    b=len(lats)\n",
    "    c=int(b*0.9)\n",
    "    prim_lat=lats[0]\n",
    "    ult_lat=lats[c]\n",
    "    prim_lon=lons[0]\n",
    "    ult_lon=lons[c]\n",
    "    #Generamos la latitud\n",
    "    random_lat = gen.nextRand(1)\n",
    "    random_lat=random_lat*(ult_lat-prim_lat)+prim_lat\n",
    "    #Generamos la longitud\n",
    "    random_lon = gen.nextRand(1)\n",
    "    random_lon=random_lon*(ult_lon-prim_lon)+prim_lon\n",
    "    #Generamos el punto y lo graficamos en el mapa par\n",
    "    folium.Marker([random_lat,random_lon],popup=caract_barrios[k]['properties']['BARRIO'],icon=folium.Icon(icon_color='orange')).add_to(m)\n",
    "    lats=[]\n",
    "    lons=[] "
   ]
  }
 ],
 "metadata": {
  "kernelspec": {
   "display_name": "Python 3.10.6 64-bit",
   "language": "python",
   "name": "python3"
  },
  "language_info": {
   "codemirror_mode": {
    "name": "ipython",
    "version": 3
   },
   "file_extension": ".py",
   "mimetype": "text/x-python",
   "name": "python",
   "nbconvert_exporter": "python",
   "pygments_lexer": "ipython3",
   "version": "3.10.6"
  },
  "vscode": {
   "interpreter": {
    "hash": "e1dde27d798ba157887ff7992c70e79e53ade79318fb4494e0fb35b370f305d7"
   }
  }
 },
 "nbformat": 4,
 "nbformat_minor": 2
}
